{
 "cells": [
  {
   "cell_type": "code",
   "execution_count": 1,
   "id": "0b3ccd3b-34c5-4612-90ac-04c37e0bb73d",
   "metadata": {
    "tags": []
   },
   "outputs": [],
   "source": [
    "import pandas as pd\n",
    "import numpy as np\n",
    "import matplotlib.pyplot as plt\n",
    "import seaborn as sns\n"
   ]
  },
  {
   "cell_type": "code",
   "execution_count": 4,
   "id": "9881e35c-460d-4c23-84f6-92626bc11a6c",
   "metadata": {
    "tags": []
   },
   "outputs": [],
   "source": [
    "url='https://raw.githubusercontent.com/giliandtal/project/main/BA_AirlineReviews.csv'"
   ]
  },
  {
   "cell_type": "code",
   "execution_count": 11,
   "id": "4ff12c90-7498-4216-8ee1-d5ed5ea8c5c2",
   "metadata": {
    "tags": []
   },
   "outputs": [],
   "source": [
    "air_df=pd.read_csv(url)"
   ]
  },
  {
   "cell_type": "code",
   "execution_count": 12,
   "id": "a56dba9b-0f29-46fe-b32b-124862c13de0",
   "metadata": {
    "tags": []
   },
   "outputs": [
    {
     "data": {
      "text/plain": [
       "Index(['Unnamed: 0', 'OverallRating', 'ReviewHeader', 'Name', 'Datetime',\n",
       "       'VerifiedReview', 'ReviewBody', 'TypeOfTraveller', 'SeatType', 'Route',\n",
       "       'DateFlown', 'SeatComfort', 'CabinStaffService', 'GroundService',\n",
       "       'ValueForMoney', 'Recommended', 'Aircraft', 'Food&Beverages',\n",
       "       'InflightEntertainment', 'Wifi&Connectivity'],\n",
       "      dtype='object')"
      ]
     },
     "execution_count": 12,
     "metadata": {},
     "output_type": "execute_result"
    }
   ],
   "source": [
    "air_pd.columns"
   ]
  },
  {
   "cell_type": "code",
   "execution_count": 13,
   "id": "b67372a7-8b52-4311-9c11-90d55b1a9c58",
   "metadata": {
    "tags": []
   },
   "outputs": [
    {
     "data": {
      "text/plain": [
       "(3701, 20)"
      ]
     },
     "execution_count": 13,
     "metadata": {},
     "output_type": "execute_result"
    }
   ],
   "source": [
    "air_df.shape"
   ]
  },
  {
   "cell_type": "code",
   "execution_count": 14,
   "id": "91ca109e-8d56-4550-86f7-04475bfe98ef",
   "metadata": {
    "tags": []
   },
   "outputs": [
    {
     "data": {
      "text/plain": [
       "Unnamed: 0                 int64\n",
       "OverallRating            float64\n",
       "ReviewHeader              object\n",
       "Name                      object\n",
       "Datetime                  object\n",
       "VerifiedReview              bool\n",
       "ReviewBody                object\n",
       "TypeOfTraveller           object\n",
       "SeatType                  object\n",
       "Route                     object\n",
       "DateFlown                 object\n",
       "SeatComfort              float64\n",
       "CabinStaffService        float64\n",
       "GroundService            float64\n",
       "ValueForMoney            float64\n",
       "Recommended               object\n",
       "Aircraft                  object\n",
       "Food&Beverages           float64\n",
       "InflightEntertainment    float64\n",
       "Wifi&Connectivity        float64\n",
       "dtype: object"
      ]
     },
     "execution_count": 14,
     "metadata": {},
     "output_type": "execute_result"
    }
   ],
   "source": [
    "air_df.dtypes"
   ]
  },
  {
   "cell_type": "markdown",
   "id": "09dc343c-0da9-455f-a02a-e4b01f049ce6",
   "metadata": {},
   "source": [
    "מסקנות שאפשר לנסות להגיע אליהן:\n",
    "איזה מטוס קיבל את הניקוד הגבוה ביותר\n",
    "איך דיילי אוויר לעומת דיילי קרקע \n",
    "האם הדירוג של טיסת עסקים לעומת פרטית גבוה יותר?\n",
    "האם חווית טיסה בקיץ טובה יותר מבחורף\n",
    "9?\n"
   ]
  },
  {
   "cell_type": "code",
   "execution_count": 18,
   "id": "55ec2fdf-2504-4159-8670-92124eb831d4",
   "metadata": {
    "tags": []
   },
   "outputs": [],
   "source": [
    "air_df['DateFlown'] = pd.to_datetime(air_df['DateFlown'])"
   ]
  },
  {
   "cell_type": "code",
   "execution_count": 19,
   "id": "2c6ca886-a32f-47c9-90b0-5d9e7aab851b",
   "metadata": {
    "tags": []
   },
   "outputs": [],
   "source": [
    "air_df['Year'] = air_df['DateFlown'].dt.year"
   ]
  },
  {
   "cell_type": "code",
   "execution_count": 20,
   "id": "7eb7c3c8-a58b-454c-96eb-2305dc0fffea",
   "metadata": {
    "tags": []
   },
   "outputs": [
    {
     "name": "stdout",
     "output_type": "stream",
     "text": [
      "     Year  OverallRating\n",
      "0  2014.0       6.111111\n",
      "1  2015.0       5.094937\n",
      "2  2016.0       4.843694\n",
      "3  2017.0       3.858929\n",
      "4  2018.0       4.511834\n",
      "5  2019.0       4.747024\n",
      "6  2020.0       4.031915\n",
      "7  2021.0       4.301075\n",
      "8  2022.0       3.940092\n",
      "9  2023.0       3.234310\n"
     ]
    }
   ],
   "source": [
    "yearly_ratings = air_df.groupby('Year')['OverallRating'].mean().reset_index()\n",
    "print(yearly_ratings)\n"
   ]
  },
  {
   "cell_type": "code",
   "execution_count": 21,
   "id": "f9928c49-b176-417e-8447-653cda745e48",
   "metadata": {
    "tags": []
   },
   "outputs": [
    {
     "data": {
      "image/png": "[encoded data removed]",
      "text/plain": [
       "<Figure size 1000x600 with 1 Axes>"
      ]
     },
     "metadata": {},
     "output_type": "display_data"
    }
   ],
   "source": [
    "plt.figure(figsize=(10, 6))\n",
    "plt.bar(yearly_ratings['Year'], yearly_ratings['OverallRating'], color='skyblue')\n",
    "plt.xlabel('Year')\n",
    "plt.ylabel('Average Overall Rating')\n",
    "plt.title('Average Overall Rating per Year')\n",
    "plt.xticks(yearly_ratings['Year'], rotation=45)\n",
    "plt.grid(axis='y')"
   ]
  },
  {
   "cell_type": "code",
   "execution_count": null,
   "id": "927d8631-29b4-4b20-8ee0-ef86acf9a441",
   "metadata": {},
   "outputs": [],
   "source": [
    "rating_by_month= air_df.groupby('Year')['OverallRating']"
   ]
  }
 ],
 "metadata": {
  "kernelspec": {
   "display_name": "Python 3 (ipykernel)",
   "language": "python",
   "name": "python3"
  },
  "language_info": {
   "codemirror_mode": {
    "name": "ipython",
    "version": 3
   },
   "file_extension": ".py",
   "mimetype": "text/x-python",
   "name": "python",
   "nbconvert_exporter": "python",
   "pygments_lexer": "ipython3",
   "version": "3.11.5"
  }
 },
 "nbformat": 4,
 "nbformat_minor": 5
}
